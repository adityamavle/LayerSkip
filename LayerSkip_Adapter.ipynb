{
  "cells": [
    {
      "cell_type": "code",
      "source": [
        "!pip install datasets"
      ],
      "metadata": {
        "id": "OYTAm0_SMGMb"
      },
      "execution_count": null,
      "outputs": []
    },
    {
      "cell_type": "code",
      "source": [
        "!git clone https://github.com/adityamavle/LayerSkip.git"
      ],
      "metadata": {
        "id": "vI4LU-4yoykd"
      },
      "execution_count": null,
      "outputs": []
    },
    {
      "cell_type": "code",
      "execution_count": null,
      "metadata": {
        "id": "LmeW68vYMFPU"
      },
      "outputs": [],
      "source": [
        "!pip install -U huggingface_hub\n",
        "\n",
        "from huggingface_hub import login\n",
        "login(token=\"upir-token-here\")"
      ]
    },
    {
      "cell_type": "code",
      "execution_count": null,
      "metadata": {
        "execution": {
          "iopub.execute_input": "2025-04-20T18:39:03.164100Z",
          "iopub.status.busy": "2025-04-20T18:39:03.163756Z",
          "iopub.status.idle": "2025-04-20T18:39:03.172932Z",
          "shell.execute_reply": "2025-04-20T18:39:03.172043Z",
          "shell.execute_reply.started": "2025-04-20T18:39:03.164046Z"
        },
        "colab": {
          "base_uri": "https://localhost:8080/"
        },
        "id": "mO_GR76FMFPV",
        "outputId": "813cf68d-6ff4-4154-c799-b3ec781ca860"
      },
      "outputs": [
        {
          "output_type": "stream",
          "name": "stdout",
          "text": [
            "/content/LayerSkip\n"
          ]
        }
      ],
      "source": [
        "%cd 'LayerSkip'"
      ]
    },
    {
      "cell_type": "code",
      "execution_count": null,
      "metadata": {
        "execution": {
          "iopub.execute_input": "2025-04-20T18:39:03.175279Z",
          "iopub.status.busy": "2025-04-20T18:39:03.175037Z",
          "iopub.status.idle": "2025-04-20T18:39:03.184643Z",
          "shell.execute_reply": "2025-04-20T18:39:03.184014Z",
          "shell.execute_reply.started": "2025-04-20T18:39:03.175262Z"
        },
        "colab": {
          "base_uri": "https://localhost:8080/"
        },
        "id": "OkPwgHg7MFPV",
        "outputId": "0cec50e1-ee6c-49f8-a7fd-b0648825f39f"
      },
      "outputs": [
        {
          "output_type": "stream",
          "name": "stdout",
          "text": [
            "Overwriting requirements.txt\n"
          ]
        }
      ],
      "source": [
        "%%writefile requirements.txt\n",
        "accelerate==1.0.1\n",
        "torch==2.2.1\n",
        "numpy==1.26.4\n",
        "transformers==4.45.0\n",
        "torchmetrics==1.3.2\n",
        "torcheval==0.0.7\n",
        "sentencepiece==0.2.0\n",
        "datasets==3.0.1\n",
        "pandas==2.2.2\n",
        "tabulate==0.9.0\n",
        "colorama==0.4.6\n",
        "protobuf==5.28.2\n",
        "lm_eval==0.4.5\n",
        "pytest==8.3.3\n",
        "pytest-mock==3.14.0\n",
        "matplotlib==3.10.0"
      ]
    },
    {
      "cell_type": "code",
      "execution_count": null,
      "metadata": {
        "execution": {
          "iopub.execute_input": "2025-04-20T18:39:03.186124Z",
          "iopub.status.busy": "2025-04-20T18:39:03.185815Z",
          "iopub.status.idle": "2025-04-20T18:42:45.877232Z",
          "shell.execute_reply": "2025-04-20T18:42:45.876192Z",
          "shell.execute_reply.started": "2025-04-20T18:39:03.186096Z"
        },
        "id": "O57dJe3-MFPV"
      },
      "outputs": [],
      "source": [
        "!pip install -r requirements.txt"
      ]
    },
    {
      "cell_type": "code",
      "execution_count": null,
      "metadata": {
        "execution": {
          "iopub.execute_input": "2025-04-20T18:42:45.878573Z",
          "iopub.status.busy": "2025-04-20T18:42:45.878241Z",
          "iopub.status.idle": "2025-04-20T18:44:43.802418Z",
          "shell.execute_reply": "2025-04-20T18:44:43.801443Z",
          "shell.execute_reply.started": "2025-04-20T18:42:45.878540Z"
        },
        "id": "u6p3MvzfMFPV"
      },
      "outputs": [],
      "source": [
        "# !pip install torchaudio\n",
        "!pip install torcheval\n",
        "!pip install torch"
      ]
    },
    {
      "cell_type": "code",
      "execution_count": null,
      "metadata": {
        "colab": {
          "base_uri": "https://localhost:8080/"
        },
        "id": "zlaiD-utMFPV",
        "outputId": "281ba32c-10b8-40a9-8506-cbfba23f5cdd"
      },
      "outputs": [
        {
          "output_type": "stream",
          "name": "stdout",
          "text": [
            "2.2.1+cu121\n"
          ]
        }
      ],
      "source": [
        "import torch\n",
        "\n",
        "print(torch.__version__)"
      ]
    },
    {
      "cell_type": "code",
      "execution_count": null,
      "metadata": {
        "scrolled": true,
        "id": "DRG4kieXMFPZ"
      },
      "outputs": [],
      "source": [
        "!pip install wandb"
      ]
    },
    {
      "cell_type": "code",
      "source": [
        "!chmod +x launch_training.sh"
      ],
      "metadata": {
        "id": "-k8hJjpQPgE8"
      },
      "execution_count": null,
      "outputs": []
    },
    {
      "cell_type": "code",
      "source": [
        "%cd '/content/drive/MyDrive/LayerSkip'"
      ],
      "metadata": {
        "id": "47jT6gjcjC2Q"
      },
      "execution_count": null,
      "outputs": []
    },
    {
      "cell_type": "code",
      "source": [
        "! ./launch_training.sh 1"
      ],
      "metadata": {
        "id": "GEVX2zKgOeQn"
      },
      "execution_count": null,
      "outputs": []
    }
  ],
  "metadata": {
    "kaggle": {
      "accelerator": "nvidiaTeslaT4",
      "dataSources": [],
      "dockerImageVersionId": 30919,
      "isGpuEnabled": true,
      "isInternetEnabled": true,
      "language": "python",
      "sourceType": "notebook"
    },
    "kernelspec": {
      "display_name": "Python 3",
      "name": "python3"
    },
    "language_info": {
      "codemirror_mode": {
        "name": "ipython",
        "version": 3
      },
      "file_extension": ".py",
      "mimetype": "text/x-python",
      "name": "python",
      "nbconvert_exporter": "python",
      "pygments_lexer": "ipython3",
      "version": "3.10.13"
    },
    "colab": {
      "provenance": [],
      "gpuType": "T4"
    },
    "accelerator": "GPU"
  },
  "nbformat": 4,
  "nbformat_minor": 0
}